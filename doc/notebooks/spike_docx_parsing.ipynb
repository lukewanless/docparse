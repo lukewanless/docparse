{
 "cells": [
  {
   "cell_type": "code",
   "execution_count": 27,
   "metadata": {},
   "outputs": [],
   "source": [
    "import docx\n",
    "import xml.etree.ElementTree as ET\n",
    "from xml.etree.ElementTree import XML\n",
    "import zipfile\n",
    "from lxml import etree\n",
    "import shutil\n",
    "import tempfile\n",
    "import openai\n",
    "import os\n",
    "import random\n",
    "from docx2python import docx2python, utilities\n",
    "import re\n"
   ]
  },
  {
   "cell_type": "code",
   "execution_count": 33,
   "metadata": {},
   "outputs": [],
   "source": [
    "template_name = \"curie_medium\"\n",
    "template_path = f\"../templates/{template_name}.docx\"\n",
    "output_path = f\"../templates/replacement_test.docx\""
   ]
  },
  {
   "cell_type": "code",
   "execution_count": 29,
   "metadata": {},
   "outputs": [],
   "source": [
    "def check_element_is(element, type_char):\n",
    "    word_schema = \"http://schemas.openxmlformats.org/wordprocessingml/2006/main\"\n",
    "    return element.tag == \"{%s}%s\" % (word_schema, type_char)\n",
    "\n",
    "def itertxt(xml_etree):\n",
    "    \"\"\"Iterator to go through xml tree's text nodes\"\"\"\n",
    "    for node in xml_etree.iter(tag=etree.Element):\n",
    "        if check_element_is(node, \"t\"):\n",
    "            yield (node, node.text)\n",
    "\n",
    "def get_tree_from_template_path(template_path):\n",
    "    zip = zipfile.ZipFile(template_path)\n",
    "    xml_string = zip.read(\"word/document.xml\")\n",
    "    return etree.fromstring(xml_string)"
   ]
  },
  {
   "cell_type": "code",
   "execution_count": 30,
   "metadata": {},
   "outputs": [],
   "source": [
    "# Load the xml, get the xml tree and then iterate over all text runs \n",
    "# read in an xml tree \n",
    "xml_tree = get_tree_from_template_path(template_path=template_path)\n",
    "for node, txt in itertxt(xml_etree=xml_tree):\n",
    "    #print(txt)\n",
    "    pass\n",
    "\n"
   ]
  },
  {
   "cell_type": "code",
   "execution_count": 38,
   "metadata": {},
   "outputs": [],
   "source": [
    "# Function to get a completion from davinci \n",
    "def generate_text(self, prompt: str, max_tokens: int) -> str:\n",
    "        openai.api_key = os.environ.get(\"OPENAI_KEY\", \"\")\n",
    "        completion = openai.Completion.create(\n",
    "            engine=\"text-davinci-003\", prompt=prompt, max_tokens=max_tokens, echo=False\n",
    "        )\n",
    "        assert isinstance(completion, dict)\n",
    "        text = random.choice(completion[\"choices\"])[\"text\"]\n",
    "        return text\n",
    "\n",
    "\n",
    "# Function to classify a single text element  \n",
    "def classify_text(text):\n",
    "    email_regex = r\"[a-zA-Z0-9._%+-]+@[a-zA-Z0-9.-]+\\.[a-zA-Z]{2,}\"\n",
    "    phone_regex = r\"\\(?\\d{3}\\)?[-\\s.]?\\d{3}[-\\s.]?\\d{4}\"\n",
    "    address_regex = r\"\\d+\\s[\\w\\s]+,\\s[\\w\\s]+,\\s[A-Z]{2}\\s\\d{5}\"\n",
    "    name_regex = r\"\\b[A-Z][a-z]+(?:\\s[A-Z]\\.)?\\s[A-Z][a-z]+\\b\"\n",
    "\n",
    "    email_match = re.search(email_regex, text)\n",
    "    phone_match = re.search(phone_regex, text)\n",
    "    address_match = re.search(address_regex, text)\n",
    "    name_match = re.search(name_regex, text)\n",
    "\n",
    "    return {\n",
    "        'email': email_match.group(0) if email_match else None,\n",
    "        'phone_number': phone_match.group(0) if phone_match else None,\n",
    "        'address': address_match.group(0) if address_match else None,\n",
    "        'full_name': name_match.group(0) if name_match else None,\n",
    "    }\n",
    "\n",
    "# given a string to replace, classify it and generate new text \n",
    "def classify_and_regenerate(text):\n",
    "    text_type = classify_text(text)\n",
    "    return generate_text(text_type)\n",
    "\n",
    "# for doing a mass replacement use no arguments \n",
    "# this iterates over every text run and generates a replacement \n",
    "def generate_replacements(path_in):\n",
    "    replacements = []\n",
    "    doc = docx2python(template_path)\n",
    "    for run in doc.document_runs:\n",
    "        old_text = run \n",
    "        new_text = classify_and_regenerate(run)\n",
    "        replacements.append(tuple(old_text, new_text))\n",
    "    return replacements\n",
    "\n",
    "\n",
    "# open python2docx xml, iterate through all text runs, classify and regenerate,\n",
    "# then replace text and save to output path \n",
    "def replace_text(path_in, path_out, replacements=None):\n",
    "    reader = docx2python(template_path).docx_reader\n",
    "    for file in reader.content_files():\n",
    "        root = file.root_element\n",
    "        # if no replacements then we simply go \n",
    "        # through everything \n",
    "        if replacements is None:\n",
    "            replacements = generate_replacements(path_in=path_in)\n",
    "        # otherwise use specific replacements provided \n",
    "        for replacement in replacements:\n",
    "            utilities.replace_root_text(root, replacement[0], replacement[1])\n",
    "    reader.save(path_out)\n",
    "    reader.close()\n"
   ]
  },
  {
   "cell_type": "code",
   "execution_count": 39,
   "metadata": {},
   "outputs": [],
   "source": [
    "# test out the above find and replace functionality \n",
    "replacements = [(\"Thanks\", \"No Thanks\"), (\"Hello Holly\", \"Hello World!\")]\n",
    "replace_text(path_in=template_path, path_out=output_path, replacements=replacements)\n"
   ]
  },
  {
   "cell_type": "code",
   "execution_count": null,
   "metadata": {},
   "outputs": [],
   "source": [
    "# Print the xml text nodes once we have resaved the docx using docx2python \n",
    "# to test if the xml cleaning has worked\n",
    "zip = zipfile.ZipFile(template_path)\n",
    "xml_string = zip.read(\"word/document.xml\")\n",
    "xml_tree = etree.fromstring(xml_string)\n",
    "\n",
    "for node, txt in itertxt(xml_etree=xml_tree):\n",
    "    print(txt)"
   ]
  },
  {
   "cell_type": "code",
   "execution_count": null,
   "metadata": {},
   "outputs": [],
   "source": []
  }
 ],
 "metadata": {
  "kernelspec": {
   "display_name": "docparse",
   "language": "python",
   "name": "python3"
  },
  "language_info": {
   "codemirror_mode": {
    "name": "ipython",
    "version": 3
   },
   "file_extension": ".py",
   "mimetype": "text/x-python",
   "name": "python",
   "nbconvert_exporter": "python",
   "pygments_lexer": "ipython3",
   "version": "3.10.8"
  },
  "orig_nbformat": 4
 },
 "nbformat": 4,
 "nbformat_minor": 2
}

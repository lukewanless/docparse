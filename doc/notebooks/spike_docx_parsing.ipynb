{
 "cells": [
  {
   "cell_type": "code",
   "execution_count": 60,
   "metadata": {},
   "outputs": [],
   "source": [
    "import docx\n",
    "import xml.etree.ElementTree as ET\n",
    "from xml.etree.ElementTree import XML\n",
    "import zipfile\n",
    "from lxml import etree\n",
    "import shutil\n",
    "import tempfile\n",
    "import openai\n",
    "import os\n",
    "import random\n",
    "from docx2python import docx2python, utilities\n",
    "import re\n",
    "from enum import Enum, auto\n",
    "from collections.abc import Iterable\n"
   ]
  },
  {
   "cell_type": "code",
   "execution_count": 61,
   "metadata": {},
   "outputs": [],
   "source": [
    "template_name = \"curie_medium\"\n",
    "template_path = f\"../templates/{template_name}.docx\"\n",
    "output_path = f\"../templates/replacement_test.docx\""
   ]
  },
  {
   "cell_type": "code",
   "execution_count": 98,
   "metadata": {},
   "outputs": [
    {
     "name": "stdout",
     "output_type": "stream",
     "text": [
      "['Madeline Murphy']\n"
     ]
    }
   ],
   "source": [
    "def flatten(xs):\n",
    "    for x in xs:\n",
    "        if isinstance(x, Iterable) and not isinstance(x, (str, bytes)):\n",
    "            yield from flatten(x)\n",
    "        else:\n",
    "            yield x\n",
    "\n",
    "# Experiement with detecting different text runs etc...\n",
    "with docx2python(template_path) as doc:\n",
    "    for run in doc.document_runs[7][3]:\n",
    "        flat_run = flatten(run)\n",
    "        print(list(flat_run))"
   ]
  },
  {
   "cell_type": "code",
   "execution_count": 103,
   "metadata": {},
   "outputs": [],
   "source": [
    "# Create an enum of document element types \n",
    "class DocElements(Enum):\n",
    "    EMAIL = auto()\n",
    "    PHONE_NUMBER = auto()\n",
    "    ADDRESS = auto()\n",
    "    FULL_NAME = auto()\n",
    "    PARAGRAPH = auto()\n",
    "    HEADING = auto()\n",
    "    UNKNOWN = auto()\n",
    "\n",
    "\n",
    "# Function to get a completion from davinci \n",
    "def generate_text(text, text_type: str, max_tokens: int, ) -> str:\n",
    "        openai.api_key = os.environ.get(\"OPENAI_KEY\", \"\")\n",
    "        prompt = f\"The follwing text is a {text_type} from a document. Replace it with fake text: {text}\"\n",
    "        completion = openai.Completion.create(\n",
    "            engine=\"text-davinci-003\", prompt=prompt, max_tokens=max_tokens, echo=False\n",
    "        )\n",
    "        assert isinstance(completion, dict)\n",
    "        text = random.choice(completion[\"choices\"])[\"text\"]\n",
    "        return text\n",
    "\n",
    "\n",
    "# Function to classify a single text element  \n",
    "def classify_text(text):\n",
    "    # use the text run properties and length as well \n",
    "    if len(text.split()) > 5:\n",
    "        return DocElements.PARAGRAPH\n",
    "    else: \n",
    "        email_regex = r\"[a-zA-Z0-9._%+-]+@[a-zA-Z0-9.-]+\\.[a-zA-Z]{2,}\"\n",
    "        phone_regex = r\"\\(?\\d{3}\\)?[-\\s.]?\\d{3}[-\\s.]?\\d{4}\"\n",
    "        address_regex = r\"\\d+\\s[\\w\\s]+,\\s[\\w\\s]+,\\s[A-Z]{2}\\s\\d{5}\"\n",
    "        name_regex = r\"\\b[A-Z][a-z]+(?:\\s[A-Z]\\.)?\\s[A-Z][a-z]+\\b\"\n",
    "\n",
    "        email_match = re.search(email_regex, text)\n",
    "        phone_match = re.search(phone_regex, text)\n",
    "        address_match = re.search(address_regex, text)\n",
    "        name_match = re.search(name_regex, text)\n",
    "        \n",
    "        if email_match:\n",
    "            return DocElements.EMAIL\n",
    "        elif phone_match:\n",
    "            return DocElements.PHONE_NUMBER\n",
    "        elif address_match:\n",
    "            return DocElements.PHONE_NUMBER\n",
    "        elif name_match:\n",
    "            return DocElements.FULL_NAME\n",
    "        else:\n",
    "            return DocElements.UNKNOWN\n",
    "\n",
    "# given a string to replace, classify it and generate new text \n",
    "def classify_and_regenerate(text):\n",
    "    text_type = classify_text(text)\n",
    "    return generate_text(text=text, text_type=text_type.name, max_tokens=len(text.split())+20) # update this to actually work \n",
    "\n",
    "# for doing a mass replacement use no arguments \n",
    "# this iterates over every text run and generates a replacement \n",
    "def generate_replacements(path_in):\n",
    "    replacements = []\n",
    "    doc = docx2python(path_in)\n",
    "    for run in doc.document_runs[7][3]:\n",
    "        run = list(flatten(run))\n",
    "        for txt in run:\n",
    "            old_text = txt \n",
    "            new_text = classify_and_regenerate(txt)\n",
    "            replacements.append(tuple([old_text, new_text]))\n",
    "    return replacements\n",
    "\n",
    "\n",
    "# open python2docx xml, iterate through all text runs, classify and regenerate,\n",
    "# then replace text and save to output path \n",
    "def replace_text(path_in, path_out, replacements=None):\n",
    "    reader = docx2python(template_path).docx_reader\n",
    "    for file in reader.content_files():\n",
    "        print(\"HI\")\n",
    "        root = file.root_element\n",
    "        # if no replacements then we simply go \n",
    "        # through everything \n",
    "        if replacements is None:\n",
    "            replacements = generate_replacements(path_in=path_in)\n",
    "        # otherwise use specific replacements provided \n",
    "        print(replacements)\n",
    "        for replacement in replacements:\n",
    "            utilities.replace_root_text(root, replacement[0], replacement[1])\n",
    "    reader.save(path_out)\n",
    "    reader.close()\n"
   ]
  },
  {
   "cell_type": "code",
   "execution_count": 104,
   "metadata": {},
   "outputs": [
    {
     "name": "stdout",
     "output_type": "stream",
     "text": [
      "HI\n",
      "[('Madeline Murphy', 'Madeline Miller')]\n",
      "HI\n",
      "[('Madeline Murphy', 'Madeline Miller')]\n",
      "HI\n",
      "[('Madeline Murphy', 'Madeline Miller')]\n"
     ]
    }
   ],
   "source": [
    "# test out the above find and replace functionality \n",
    "replacements = [('Madeline Murphy', 'Madeline Miller')]\n",
    "replace_text(path_in=template_path, path_out=output_path, replacements=replacements)\n"
   ]
  },
  {
   "cell_type": "code",
   "execution_count": null,
   "metadata": {},
   "outputs": [],
   "source": [
    "# Print the xml text nodes once we have resaved the docx using docx2python \n",
    "# to test if the xml cleaning has worked\n",
    "zip = zipfile.ZipFile(template_path)\n",
    "xml_string = zip.read(\"word/document.xml\")\n",
    "xml_tree = etree.fromstring(xml_string)\n",
    "\n",
    "for node, txt in itertxt(xml_etree=xml_tree):\n",
    "    print(txt)"
   ]
  },
  {
   "cell_type": "code",
   "execution_count": null,
   "metadata": {},
   "outputs": [],
   "source": []
  }
 ],
 "metadata": {
  "kernelspec": {
   "display_name": "docparse",
   "language": "python",
   "name": "python3"
  },
  "language_info": {
   "codemirror_mode": {
    "name": "ipython",
    "version": 3
   },
   "file_extension": ".py",
   "mimetype": "text/x-python",
   "name": "python",
   "nbconvert_exporter": "python",
   "pygments_lexer": "ipython3",
   "version": "3.10.8"
  },
  "orig_nbformat": 4
 },
 "nbformat": 4,
 "nbformat_minor": 2
}

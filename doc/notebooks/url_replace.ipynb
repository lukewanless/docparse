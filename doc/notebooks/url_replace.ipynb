{
 "cells": [
  {
   "cell_type": "code",
   "execution_count": 20,
   "metadata": {},
   "outputs": [],
   "source": [
    "import re\n",
    "from docx import Document\n",
    "from docx.text.run import Run\n",
    "from lxml import etree\n",
    "import zipfile\n",
    "from xml.dom.minidom import parseString\n",
    "import docx2python\n",
    "import xml.etree.ElementTree as ET"
   ]
  },
  {
   "cell_type": "code",
   "execution_count": 18,
   "metadata": {},
   "outputs": [
    {
     "name": "stdout",
     "output_type": "stream",
     "text": [
      "<?xml version=\"1.0\" ?>\n",
      "<w:document xmlns:wpc=\"http://schemas.microsoft.com/office/word/2010/wordprocessingCanvas\" xmlns:cx=\"http://schemas.microsoft.com/office/drawing/2014/chartex\" xmlns:cx1=\"http://schemas.microsoft.com/office/drawing/2015/9/8/chartex\" xmlns:cx2=\"http://schemas.microsoft.com/office/drawing/2015/10/21/chartex\" xmlns:cx3=\"http://schemas.microsoft.com/office/drawing/2016/5/9/chartex\" xmlns:cx4=\"http://schemas.microsoft.com/office/drawing/2016/5/10/chartex\" xmlns:cx5=\"http://schemas.microsoft.com/office/drawing/2016/5/11/chartex\" xmlns:cx6=\"http://schemas.microsoft.com/office/drawing/2016/5/12/chartex\" xmlns:cx7=\"http://schemas.microsoft.com/office/drawing/2016/5/13/chartex\" xmlns:cx8=\"http://schemas.microsoft.com/office/drawing/2016/5/14/chartex\" xmlns:mc=\"http://schemas.openxmlformats.org/markup-compatibility/2006\" xmlns:aink=\"http://schemas.microsoft.com/office/drawing/2016/ink\" xmlns:am3d=\"http://schemas.microsoft.com/office/drawing/2017/model3d\" xmlns:o=\"urn:schemas-microsoft-com:office:office\" xmlns:oel=\"http://schemas.microsoft.com/office/2019/extlst\" xmlns:r=\"http://schemas.openxmlformats.org/officeDocument/2006/relationships\" xmlns:m=\"http://schemas.openxmlformats.org/officeDocument/2006/math\" xmlns:v=\"urn:schemas-microsoft-com:vml\" xmlns:wp14=\"http://schemas.microsoft.com/office/word/2010/wordprocessingDrawing\" xmlns:wp=\"http://schemas.openxmlformats.org/drawingml/2006/wordprocessingDrawing\" xmlns:w10=\"urn:schemas-microsoft-com:office:word\" xmlns:w=\"http://schemas.openxmlformats.org/wordprocessingml/2006/main\" xmlns:w14=\"http://schemas.microsoft.com/office/word/2010/wordml\" xmlns:w15=\"http://schemas.microsoft.com/office/word/2012/wordml\" xmlns:w16cex=\"http://schemas.microsoft.com/office/word/2018/wordml/cex\" xmlns:w16cid=\"http://schemas.microsoft.com/office/word/2016/wordml/cid\" xmlns:w16=\"http://schemas.microsoft.com/office/word/2018/wordml\" xmlns:w16du=\"http://schemas.microsoft.com/office/word/2023/wordml/word16du\" xmlns:w16sdtdh=\"http://schemas.microsoft.com/office/word/2020/wordml/sdtdatahash\" xmlns:w16se=\"http://schemas.microsoft.com/office/word/2015/wordml/symex\" xmlns:wpg=\"http://schemas.microsoft.com/office/word/2010/wordprocessingGroup\" xmlns:wpi=\"http://schemas.microsoft.com/office/word/2010/wordprocessingInk\" xmlns:wne=\"http://schemas.microsoft.com/office/word/2006/wordml\" xmlns:wps=\"http://schemas.microsoft.com/office/word/2010/wordprocessingShape\" mc:Ignorable=\"w14 w15 w16se w16cid w16 w16cex w16sdtdh wp14\">\n",
      "\t<w:body>\n",
      "\t\t<w:p w14:paraId=\"2E8B8786\" w14:textId=\"156E9D26\" w:rsidR=\"00BD3BC0\" w:rsidRDefault=\"009A3BA9\">\n",
      "\t\t\t<w:hyperlink r:id=\"rId4\" w:history=\"1\">\n",
      "\t\t\t\t<w:r w:rsidRPr=\"009A3BA9\">\n",
      "\t\t\t\t\t<w:rPr>\n",
      "\t\t\t\t\t\t<w:rStyle w:val=\"Hyperlink\"/>\n",
      "\t\t\t\t\t</w:rPr>\n",
      "\t\t\t\t\t<w:t>Google.com</w:t>\n",
      "\t\t\t\t</w:r>\n",
      "\t\t\t</w:hyperlink>\n",
      "\t\t</w:p>\n",
      "\t\t<w:sectPr w:rsidR=\"00BD3BC0\" w:rsidSect=\"005C6A44\">\n",
      "\t\t\t<w:pgSz w:w=\"11900\" w:h=\"16840\"/>\n",
      "\t\t\t<w:pgMar w:top=\"1440\" w:right=\"1440\" w:bottom=\"1440\" w:left=\"1440\" w:header=\"708\" w:footer=\"708\" w:gutter=\"0\"/>\n",
      "\t\t\t<w:cols w:space=\"708\"/>\n",
      "\t\t\t<w:docGrid w:linePitch=\"360\"/>\n",
      "\t\t</w:sectPr>\n",
      "\t</w:body>\n",
      "</w:document>\n",
      "\n"
     ]
    },
    {
     "name": "stderr",
     "output_type": "stream",
     "text": [
      "/Users/lukewanless/.pyenv/versions/3.10.8/envs/docparse/lib/python3.10/site-packages/docx2python/docx_reader.py:212: UserWarning: Attempt to merge consecutive elements in Google.docx word/document.xml resulted in BadZipFile('Bad magic number for file header'). Moving on.\n",
      "  warn(\n"
     ]
    }
   ],
   "source": [
    "def get_xml_from_docx(docx_filename):\n",
    "    with zipfile.ZipFile(docx_filename, 'r') as zf:\n",
    "        document_xml = zf.read('word/document.xml')\n",
    "    return document_xml.decode()  # Decode bytes to string\n",
    "\n",
    "def pretty_print_xml(xml_string):\n",
    "    dom = parseString(xml_string)\n",
    "    pretty_xml = dom.toprettyxml()\n",
    "    return pretty_xml\n",
    "\n",
    "# Usage:\n",
    "# clean XML runs using docx2python library\n",
    "doc = docx2python.docx2python('Google.docx').docx_reader\n",
    "doc.save('output.docx')\n",
    "doc.close()\n",
    "\n",
    "xml_content = get_xml_from_docx('output.docx')\n",
    "print(pretty_print_xml(xml_content))"
   ]
  },
  {
   "cell_type": "code",
   "execution_count": 21,
   "metadata": {},
   "outputs": [],
   "source": [
    "import os\n",
    "import zipfile\n",
    "import tempfile\n",
    "import shutil\n",
    "import xml.etree.ElementTree as ET\n",
    "\n",
    "def replace_hyperlink_text_in_docx(docx_path, replacements):\n",
    "    # Create temporary directory\n",
    "    temp_dir = tempfile.mkdtemp()\n",
    "\n",
    "    # Extract docx file into temporary directory\n",
    "    with zipfile.ZipFile(docx_path, 'r') as docx:\n",
    "        docx.extractall(temp_dir)\n",
    "\n",
    "    # Parse document.xml\n",
    "    tree = ET.parse(os.path.join(temp_dir, 'word', 'document.xml'))\n",
    "    root = tree.getroot()\n",
    "\n",
    "    # Define XML namespaces\n",
    "    namespaces = {\n",
    "        'w': 'http://schemas.openxmlformats.org/wordprocessingml/2006/main'\n",
    "    }\n",
    "\n",
    "    # Find all hyperlink elements\n",
    "    for hyperlink in root.findall('.//w:hyperlink', namespaces):\n",
    "        # Find all text elements within this hyperlink\n",
    "        for text_elem in hyperlink.findall('.//w:t', namespaces):\n",
    "            for old_text, new_text in replacements:\n",
    "                # If the text matches the old text, replace it with the new text\n",
    "                if text_elem.text == old_text:\n",
    "                    text_elem.text = new_text\n",
    "\n",
    "    # Write back modified XML to document.xml\n",
    "    tree.write(os.path.join(temp_dir, 'word', 'document.xml'))\n",
    "\n",
    "    # Create a new docx file with modified content\n",
    "    new_docx_path = docx_path.replace('.docx', '_modified.docx')\n",
    "    with zipfile.ZipFile(new_docx_path, 'w') as docx:\n",
    "        for folder, _, files in os.walk(temp_dir):\n",
    "            for file_name in files:\n",
    "                absolute_path = os.path.join(folder, file_name)\n",
    "                relative_path = os.path.relpath(absolute_path, temp_dir)\n",
    "                docx.write(absolute_path, relative_path)\n",
    "\n",
    "    # Clean up temporary directory\n",
    "    shutil.rmtree(temp_dir)\n",
    "\n",
    "# Usage:\n",
    "replace_hyperlink_text_in_docx('Google.docx', 'Google.com', 'NewText.com')\n"
   ]
  },
  {
   "cell_type": "code",
   "execution_count": 3,
   "metadata": {},
   "outputs": [],
   "source": [
    "doc = Document('Google.docx')\n",
    "pattern = \"\\(doc. [0-9]\\).\"\n",
    "for paragraph in doc.paragraphs:\n",
    "    for run in paragraph.runs:\n",
    "        matches = re.findall(pattern, run.text)\n",
    "        if matches:\n",
    "            # Replace the pattern with an empty string\n",
    "            run.text = re.sub(pattern, \"\", run.text)\n",
    "            # Create a new run for the hyperlink text\n",
    "            new_run_element = paragraph._element._new_r()\n",
    "            run._element.addnext(new_run_element)\n",
    "            new_run = Run(new_run_element, run._parent)\n",
    "            new_run.text = matches[0] + \" \"\n",
    "            # Add the hyperlink to the new run\n",
    "            part = paragraph.part\n",
    "            r_id = part.relate_to(new_url, docx.opc.constants.RELATIONSHIP_TYPE.HYPERLINK, is_external=True)\n",
    "            hyperlink = etree.Element('{http://schemas.openxmlformats.org/wordprocessingml/2006/main}hyperlink')\n",
    "            hyperlink.set('{http://schemas.openxmlformats.org/officeDocument/2006/relationships}id', r_id)\n",
    "            new_run._element.append(hyperlink)\n",
    "doc.save('output.docx')\n"
   ]
  },
  {
   "cell_type": "code",
   "execution_count": null,
   "metadata": {},
   "outputs": [],
   "source": []
  }
 ],
 "metadata": {
  "kernelspec": {
   "display_name": "docparse",
   "language": "python",
   "name": "python3"
  },
  "language_info": {
   "codemirror_mode": {
    "name": "ipython",
    "version": 3
   },
   "file_extension": ".py",
   "mimetype": "text/x-python",
   "name": "python",
   "nbconvert_exporter": "python",
   "pygments_lexer": "ipython3",
   "version": "3.10.8"
  },
  "orig_nbformat": 4
 },
 "nbformat": 4,
 "nbformat_minor": 2
}

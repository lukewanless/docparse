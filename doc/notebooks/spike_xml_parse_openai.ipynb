{
 "cells": [
  {
   "cell_type": "code",
   "execution_count": 3,
   "metadata": {},
   "outputs": [],
   "source": [
    "from docx import Document\n",
    "import xml.etree.ElementTree as ET\n",
    "from xml.etree.ElementTree import XML\n",
    "import zipfile\n",
    "from bs4 import BeautifulSoup\n",
    "from lxml import etree\n",
    "import shutil\n",
    "import tempfile\n",
    "import openai\n",
    "import os"
   ]
  },
  {
   "attachments": {},
   "cell_type": "markdown",
   "metadata": {},
   "source": [
    "## Extracting xml and text from docx file"
   ]
  },
  {
   "cell_type": "code",
   "execution_count": 4,
   "metadata": {},
   "outputs": [],
   "source": [
    "# MAKE THIS A CLASS -- it makes way more sense\n",
    "\n",
    "# code inspired by: https://virantha.com/2013/08/16/reading-and-writing-microsoft-word-docx-files-with-python/\n",
    "template_name = \"test\"\n",
    "template_path = f\"../templates/{template_name}.docx\"\n",
    "\n",
    "\n",
    "def get_word_xml(path):\n",
    "    zip = zipfile.ZipFile(path)\n",
    "    xml_content = zip.read(\"word/document.xml\")\n",
    "    return xml_content\n",
    "\n",
    "\n",
    "def get_xml_tree(xml_string):\n",
    "    return etree.fromstring(xml_string)\n",
    "\n",
    "\n",
    "def _itertext(my_etree):\n",
    "    \"\"\"Iterator to go through xml tree's text nodes\"\"\"\n",
    "    for node in my_etree.iter(tag=etree.Element):\n",
    "        if _check_element_is(node, \"t\"):\n",
    "            yield (node, node.text)\n",
    "\n",
    "\n",
    "def _check_element_is(element, type_char):\n",
    "    word_schema = \"http://schemas.openxmlformats.org/wordprocessingml/2006/main\"\n",
    "    return element.tag == \"{%s}%s\" % (word_schema, type_char)\n",
    "\n",
    "\n",
    "# def find_and_replace_text(xml_content):\n",
    "\n",
    "# def generate_text(model: str, prompt: str)\n",
    "\n",
    "\n",
    "def _write_and_close_docx(zipfile, xml_content, output_filename, path):\n",
    "    \"\"\"Create a temp directory, expand the original docx zip.\n",
    "    Write the modified xml to word/document.xml\n",
    "    Zip it up as the new docx\n",
    "    \"\"\"\n",
    "    tmp_dir = tempfile.mkdtemp()\n",
    "\n",
    "    # zipfile = zipfile\n",
    "    zipfile.extractall(tmp_dir)\n",
    "\n",
    "    with open(os.path.join(tmp_dir, \"word/document.xml\"), \"w\") as f:\n",
    "        xmlstr = etree.tostring(xml_content, pretty_print=True)\n",
    "        f.write(xmlstr)\n",
    "\n",
    "    # Get a list of all the files in the original docx zipfile\n",
    "    filenames = zipfile.namelist()\n",
    "    # Now, create the new zip file and add all the filex into the archive\n",
    "    zip_copy_filename = output_filename\n",
    "    with zipfile.ZipFile(zip_copy_filename, \"w\") as docx:\n",
    "        for filename in filenames:\n",
    "            docx.write(os.path.join(tmp_dir, filename), filename)\n",
    "\n",
    "    # Clean up the temp dir\n",
    "    shutil.rmtree(tmp_dir)"
   ]
  },
  {
   "cell_type": "code",
   "execution_count": 90,
   "metadata": {},
   "outputs": [
    {
     "name": "stdout",
     "output_type": "stream",
     "text": [
      "23 September, 2021\n",
      "To\n",
      "Joy Gardner\n",
      "7 Patrick Underpass Avenue\n",
      "Marlborough\n",
      "QLD 4705\n",
      "Hello Joy,\n",
      "\n",
      " In order to better understand the situation surrounding our presentComplete this text with at least 500 characters: Dear Joy Gardner, In order to better understand the situation surrounding our present economic difficulties, I am writing to request an appointment with you.\n",
      "I am a financial analyst, and I have been studying the current economic conditions and their implications over the past few months.\n",
      "Take care\n",
      "Howard Wheeler\n",
      "Marketing executive\n",
      "howard.wheeler@phased.com\n"
     ]
    }
   ],
   "source": [
    "xml_from_file = get_word_xml(template_path)\n",
    "xml_tree = get_xml_tree(xml_from_file)\n",
    "for node, txt in _itertext(xml_tree):\n",
    "    print(txt)"
   ]
  }
 ],
 "metadata": {
  "kernelspec": {
   "display_name": "docparse",
   "language": "python",
   "name": "python3"
  },
  "language_info": {
   "codemirror_mode": {
    "name": "ipython",
    "version": 3
   },
   "file_extension": ".py",
   "mimetype": "text/x-python",
   "name": "python",
   "nbconvert_exporter": "python",
   "pygments_lexer": "ipython3",
   "version": "3.10.8"
  },
  "orig_nbformat": 4,
  "vscode": {
   "interpreter": {
    "hash": "81010429b249a414d674f726a137a9df1388cea7515a06ed0238763fdcd12b91"
   }
  }
 },
 "nbformat": 4,
 "nbformat_minor": 2
}
